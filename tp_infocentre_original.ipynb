{
 "cells": [
  {
   "cell_type": "markdown",
   "metadata": {},
   "source": [
    "#### Nom : KAMBECO\n",
    "#### POST-NOM :MPIANA\n",
    "#### PRENOM : HANS\n",
    "**------------------------------------------------------------------------------------------------------------------------------------------------------------------------------------------------------------------**"
   ]
  },
  {
   "cell_type": "markdown",
   "metadata": {},
   "source": [
    "<h1><center>Travail Pratique d'infocentre</center></h1>"
   ]
  },
  {
   "cell_type": "markdown",
   "metadata": {},
   "source": [
    "### Importation des bibliotheques"
   ]
  },
  {
   "cell_type": "code",
   "execution_count": 47,
   "metadata": {},
   "outputs": [],
   "source": [
    "import numpy as np\n",
    "import pandas as pd\n",
    "import matplotlib.pyplot as plt"
   ]
  },
  {
   "cell_type": "markdown",
   "metadata": {},
   "source": [
    "### (1) Importation du dataset"
   ]
  },
  {
   "cell_type": "code",
   "execution_count": 48,
   "metadata": {},
   "outputs": [],
   "source": [
    "travail = pd.read_excel('C:/Users/hans/Documents/mes documents/dataset_Hans_Kambeco_Mpiana/data_vin.xlsx')"
   ]
  },
  {
   "cell_type": "markdown",
   "metadata": {},
   "source": [
    "#### Affichage du dataset"
   ]
  },
  {
   "cell_type": "code",
   "execution_count": 49,
   "metadata": {},
   "outputs": [
    {
     "data": {
      "text/html": [
       "<div>\n",
       "<style scoped>\n",
       "    .dataframe tbody tr th:only-of-type {\n",
       "        vertical-align: middle;\n",
       "    }\n",
       "\n",
       "    .dataframe tbody tr th {\n",
       "        vertical-align: top;\n",
       "    }\n",
       "\n",
       "    .dataframe thead th {\n",
       "        text-align: right;\n",
       "    }\n",
       "</style>\n",
       "<table border=\"1\" class=\"dataframe\">\n",
       "  <thead>\n",
       "    <tr style=\"text-align: right;\">\n",
       "      <th></th>\n",
       "      <th>ID_individu</th>\n",
       "      <th>fixed_acidity</th>\n",
       "      <th>volatile_acidity</th>\n",
       "      <th>citric_acid</th>\n",
       "      <th>residual_sugar</th>\n",
       "      <th>chlorides</th>\n",
       "      <th>free_sulfur_dioxide</th>\n",
       "      <th>total_sulfur_dioxide</th>\n",
       "      <th>density</th>\n",
       "      <th>pH</th>\n",
       "      <th>sulphates</th>\n",
       "      <th>alcohol</th>\n",
       "    </tr>\n",
       "  </thead>\n",
       "  <tbody>\n",
       "    <tr>\n",
       "      <th>0</th>\n",
       "      <td>0</td>\n",
       "      <td>7.0</td>\n",
       "      <td>0.27</td>\n",
       "      <td>0.36</td>\n",
       "      <td>20.7</td>\n",
       "      <td>0.045</td>\n",
       "      <td>45.0</td>\n",
       "      <td>170.0</td>\n",
       "      <td>1.0010</td>\n",
       "      <td>3.00</td>\n",
       "      <td>0.45</td>\n",
       "      <td>8.8</td>\n",
       "    </tr>\n",
       "    <tr>\n",
       "      <th>1</th>\n",
       "      <td>1</td>\n",
       "      <td>6.3</td>\n",
       "      <td>0.30</td>\n",
       "      <td>0.34</td>\n",
       "      <td>1.6</td>\n",
       "      <td>0.049</td>\n",
       "      <td>14.0</td>\n",
       "      <td>132.0</td>\n",
       "      <td>0.9940</td>\n",
       "      <td>3.30</td>\n",
       "      <td>0.49</td>\n",
       "      <td>9.5</td>\n",
       "    </tr>\n",
       "    <tr>\n",
       "      <th>2</th>\n",
       "      <td>2</td>\n",
       "      <td>8.1</td>\n",
       "      <td>0.28</td>\n",
       "      <td>0.40</td>\n",
       "      <td>6.9</td>\n",
       "      <td>0.050</td>\n",
       "      <td>30.0</td>\n",
       "      <td>97.0</td>\n",
       "      <td>0.9951</td>\n",
       "      <td>3.26</td>\n",
       "      <td>0.44</td>\n",
       "      <td>10.1</td>\n",
       "    </tr>\n",
       "    <tr>\n",
       "      <th>3</th>\n",
       "      <td>3</td>\n",
       "      <td>7.2</td>\n",
       "      <td>0.23</td>\n",
       "      <td>0.32</td>\n",
       "      <td>8.5</td>\n",
       "      <td>0.058</td>\n",
       "      <td>47.0</td>\n",
       "      <td>186.0</td>\n",
       "      <td>0.9956</td>\n",
       "      <td>3.19</td>\n",
       "      <td>0.40</td>\n",
       "      <td>9.9</td>\n",
       "    </tr>\n",
       "    <tr>\n",
       "      <th>4</th>\n",
       "      <td>4</td>\n",
       "      <td>7.2</td>\n",
       "      <td>0.23</td>\n",
       "      <td>0.32</td>\n",
       "      <td>8.5</td>\n",
       "      <td>0.058</td>\n",
       "      <td>47.0</td>\n",
       "      <td>186.0</td>\n",
       "      <td>0.9956</td>\n",
       "      <td>3.19</td>\n",
       "      <td>0.40</td>\n",
       "      <td>9.9</td>\n",
       "    </tr>\n",
       "  </tbody>\n",
       "</table>\n",
       "</div>"
      ],
      "text/plain": [
       "   ID_individu  fixed_acidity  volatile_acidity  citric_acid  residual_sugar  \\\n",
       "0            0            7.0              0.27         0.36            20.7   \n",
       "1            1            6.3              0.30         0.34             1.6   \n",
       "2            2            8.1              0.28         0.40             6.9   \n",
       "3            3            7.2              0.23         0.32             8.5   \n",
       "4            4            7.2              0.23         0.32             8.5   \n",
       "\n",
       "   chlorides  free_sulfur_dioxide  total_sulfur_dioxide  density    pH  \\\n",
       "0      0.045                 45.0                 170.0   1.0010  3.00   \n",
       "1      0.049                 14.0                 132.0   0.9940  3.30   \n",
       "2      0.050                 30.0                  97.0   0.9951  3.26   \n",
       "3      0.058                 47.0                 186.0   0.9956  3.19   \n",
       "4      0.058                 47.0                 186.0   0.9956  3.19   \n",
       "\n",
       "   sulphates  alcohol  \n",
       "0       0.45      8.8  \n",
       "1       0.49      9.5  \n",
       "2       0.44     10.1  \n",
       "3       0.40      9.9  \n",
       "4       0.40      9.9  "
      ]
     },
     "execution_count": 49,
     "metadata": {},
     "output_type": "execute_result"
    }
   ],
   "source": [
    "travail.head()"
   ]
  },
  {
   "cell_type": "markdown",
   "metadata": {},
   "source": [
    "Notre jeu de données comprends 6497 lignes(consommateurs du vin) et 12 colonnes(variables)\n",
    "Notre dataset n'a pas de valeurs manquantes et contient que les valeurs numériques, ce qui nous facilites la tâche"
   ]
  },
  {
   "cell_type": "markdown",
   "metadata": {},
   "source": [
    "### (2) Affichage des caractéristiques statistiques"
   ]
  },
  {
   "cell_type": "code",
   "execution_count": 50,
   "metadata": {},
   "outputs": [
    {
     "data": {
      "text/html": [
       "<div>\n",
       "<style scoped>\n",
       "    .dataframe tbody tr th:only-of-type {\n",
       "        vertical-align: middle;\n",
       "    }\n",
       "\n",
       "    .dataframe tbody tr th {\n",
       "        vertical-align: top;\n",
       "    }\n",
       "\n",
       "    .dataframe thead th {\n",
       "        text-align: right;\n",
       "    }\n",
       "</style>\n",
       "<table border=\"1\" class=\"dataframe\">\n",
       "  <thead>\n",
       "    <tr style=\"text-align: right;\">\n",
       "      <th></th>\n",
       "      <th>ID_individu</th>\n",
       "      <th>fixed_acidity</th>\n",
       "      <th>volatile_acidity</th>\n",
       "      <th>citric_acid</th>\n",
       "      <th>residual_sugar</th>\n",
       "      <th>chlorides</th>\n",
       "      <th>free_sulfur_dioxide</th>\n",
       "      <th>total_sulfur_dioxide</th>\n",
       "      <th>density</th>\n",
       "      <th>pH</th>\n",
       "      <th>sulphates</th>\n",
       "      <th>alcohol</th>\n",
       "    </tr>\n",
       "  </thead>\n",
       "  <tbody>\n",
       "    <tr>\n",
       "      <th>count</th>\n",
       "      <td>6497.000000</td>\n",
       "      <td>6497.000000</td>\n",
       "      <td>6497.000000</td>\n",
       "      <td>6497.000000</td>\n",
       "      <td>6497.000000</td>\n",
       "      <td>6497.000000</td>\n",
       "      <td>6497.000000</td>\n",
       "      <td>6497.000000</td>\n",
       "      <td>6497.000000</td>\n",
       "      <td>6497.000000</td>\n",
       "      <td>6497.000000</td>\n",
       "      <td>6497.000000</td>\n",
       "    </tr>\n",
       "    <tr>\n",
       "      <th>mean</th>\n",
       "      <td>2042.535632</td>\n",
       "      <td>7.215307</td>\n",
       "      <td>0.339666</td>\n",
       "      <td>0.318633</td>\n",
       "      <td>5.443235</td>\n",
       "      <td>0.056034</td>\n",
       "      <td>30.525319</td>\n",
       "      <td>115.744574</td>\n",
       "      <td>0.994697</td>\n",
       "      <td>3.218501</td>\n",
       "      <td>0.531268</td>\n",
       "      <td>10.491801</td>\n",
       "    </tr>\n",
       "    <tr>\n",
       "      <th>std</th>\n",
       "      <td>1436.926393</td>\n",
       "      <td>1.296434</td>\n",
       "      <td>0.164636</td>\n",
       "      <td>0.145318</td>\n",
       "      <td>4.757804</td>\n",
       "      <td>0.035034</td>\n",
       "      <td>17.749400</td>\n",
       "      <td>56.521855</td>\n",
       "      <td>0.002999</td>\n",
       "      <td>0.160787</td>\n",
       "      <td>0.148806</td>\n",
       "      <td>1.192712</td>\n",
       "    </tr>\n",
       "    <tr>\n",
       "      <th>min</th>\n",
       "      <td>0.000000</td>\n",
       "      <td>3.800000</td>\n",
       "      <td>0.080000</td>\n",
       "      <td>0.000000</td>\n",
       "      <td>0.600000</td>\n",
       "      <td>0.009000</td>\n",
       "      <td>1.000000</td>\n",
       "      <td>6.000000</td>\n",
       "      <td>0.987110</td>\n",
       "      <td>2.720000</td>\n",
       "      <td>0.220000</td>\n",
       "      <td>8.000000</td>\n",
       "    </tr>\n",
       "    <tr>\n",
       "      <th>25%</th>\n",
       "      <td>812.000000</td>\n",
       "      <td>6.400000</td>\n",
       "      <td>0.230000</td>\n",
       "      <td>0.250000</td>\n",
       "      <td>1.800000</td>\n",
       "      <td>0.038000</td>\n",
       "      <td>17.000000</td>\n",
       "      <td>77.000000</td>\n",
       "      <td>0.992340</td>\n",
       "      <td>3.110000</td>\n",
       "      <td>0.430000</td>\n",
       "      <td>9.500000</td>\n",
       "    </tr>\n",
       "    <tr>\n",
       "      <th>50%</th>\n",
       "      <td>1649.000000</td>\n",
       "      <td>7.000000</td>\n",
       "      <td>0.290000</td>\n",
       "      <td>0.310000</td>\n",
       "      <td>3.000000</td>\n",
       "      <td>0.047000</td>\n",
       "      <td>29.000000</td>\n",
       "      <td>118.000000</td>\n",
       "      <td>0.994890</td>\n",
       "      <td>3.210000</td>\n",
       "      <td>0.510000</td>\n",
       "      <td>10.300000</td>\n",
       "    </tr>\n",
       "    <tr>\n",
       "      <th>75%</th>\n",
       "      <td>3273.000000</td>\n",
       "      <td>7.700000</td>\n",
       "      <td>0.400000</td>\n",
       "      <td>0.390000</td>\n",
       "      <td>8.100000</td>\n",
       "      <td>0.065000</td>\n",
       "      <td>41.000000</td>\n",
       "      <td>156.000000</td>\n",
       "      <td>0.996990</td>\n",
       "      <td>3.320000</td>\n",
       "      <td>0.600000</td>\n",
       "      <td>11.300000</td>\n",
       "    </tr>\n",
       "    <tr>\n",
       "      <th>max</th>\n",
       "      <td>4897.000000</td>\n",
       "      <td>15.900000</td>\n",
       "      <td>1.580000</td>\n",
       "      <td>1.660000</td>\n",
       "      <td>65.800000</td>\n",
       "      <td>0.611000</td>\n",
       "      <td>289.000000</td>\n",
       "      <td>440.000000</td>\n",
       "      <td>1.038980</td>\n",
       "      <td>4.010000</td>\n",
       "      <td>2.000000</td>\n",
       "      <td>14.900000</td>\n",
       "    </tr>\n",
       "  </tbody>\n",
       "</table>\n",
       "</div>"
      ],
      "text/plain": [
       "       ID_individu  fixed_acidity  volatile_acidity  citric_acid  \\\n",
       "count  6497.000000    6497.000000       6497.000000  6497.000000   \n",
       "mean   2042.535632       7.215307          0.339666     0.318633   \n",
       "std    1436.926393       1.296434          0.164636     0.145318   \n",
       "min       0.000000       3.800000          0.080000     0.000000   \n",
       "25%     812.000000       6.400000          0.230000     0.250000   \n",
       "50%    1649.000000       7.000000          0.290000     0.310000   \n",
       "75%    3273.000000       7.700000          0.400000     0.390000   \n",
       "max    4897.000000      15.900000          1.580000     1.660000   \n",
       "\n",
       "       residual_sugar    chlorides  free_sulfur_dioxide  total_sulfur_dioxide  \\\n",
       "count     6497.000000  6497.000000          6497.000000           6497.000000   \n",
       "mean         5.443235     0.056034            30.525319            115.744574   \n",
       "std          4.757804     0.035034            17.749400             56.521855   \n",
       "min          0.600000     0.009000             1.000000              6.000000   \n",
       "25%          1.800000     0.038000            17.000000             77.000000   \n",
       "50%          3.000000     0.047000            29.000000            118.000000   \n",
       "75%          8.100000     0.065000            41.000000            156.000000   \n",
       "max         65.800000     0.611000           289.000000            440.000000   \n",
       "\n",
       "           density           pH    sulphates      alcohol  \n",
       "count  6497.000000  6497.000000  6497.000000  6497.000000  \n",
       "mean      0.994697     3.218501     0.531268    10.491801  \n",
       "std       0.002999     0.160787     0.148806     1.192712  \n",
       "min       0.987110     2.720000     0.220000     8.000000  \n",
       "25%       0.992340     3.110000     0.430000     9.500000  \n",
       "50%       0.994890     3.210000     0.510000    10.300000  \n",
       "75%       0.996990     3.320000     0.600000    11.300000  \n",
       "max       1.038980     4.010000     2.000000    14.900000  "
      ]
     },
     "execution_count": 50,
     "metadata": {},
     "output_type": "execute_result"
    }
   ],
   "source": [
    "travail.describe()"
   ]
  },
  {
   "cell_type": "markdown",
   "metadata": {},
   "source": [
    "ici on voit la moyenne de chaque variable, l'ecart-type, min etc...."
   ]
  },
  {
   "cell_type": "markdown",
   "metadata": {},
   "source": [
    "### (3) Segmentation du dataset en 10 classes"
   ]
  },
  {
   "cell_type": "code",
   "execution_count": 51,
   "metadata": {},
   "outputs": [],
   "source": [
    "from sklearn.cluster import KMeans"
   ]
  },
  {
   "cell_type": "code",
   "execution_count": 52,
   "metadata": {},
   "outputs": [
    {
     "data": {
      "text/plain": [
       "array([4, 4, 4, ..., 6, 6, 6])"
      ]
     },
     "execution_count": 52,
     "metadata": {},
     "output_type": "execute_result"
    }
   ],
   "source": [
    "model = KMeans(n_clusters = 10)\n",
    "model.fit(travail)\n",
    "qualite = model.labels_\n",
    "qualite"
   ]
  },
  {
   "cell_type": "markdown",
   "metadata": {},
   "source": [
    "Je segmente cet ensemble de données en dix classes, chaque classe va réprenter la qualité d'un vin"
   ]
  },
  {
   "cell_type": "markdown",
   "metadata": {},
   "source": [
    "### (4) la taille de chaque classe"
   ]
  },
  {
   "cell_type": "code",
   "execution_count": 53,
   "metadata": {},
   "outputs": [
    {
     "data": {
      "text/plain": [
       "(array([0, 1, 2, 3, 4, 5, 6, 7, 8, 9]),\n",
       " array([538, 829, 529, 532, 818, 540, 829, 523, 824, 535], dtype=int64))"
      ]
     },
     "execution_count": 53,
     "metadata": {},
     "output_type": "execute_result"
    }
   ],
   "source": [
    "taille = np.unique(qualite,return_counts=True)\n",
    "taille"
   ]
  },
  {
   "cell_type": "markdown",
   "metadata": {},
   "source": [
    "la classe 0 = 538 consommateurs, classe 1 = 829 etc.... jsuqu'à la classe 9"
   ]
  },
  {
   "cell_type": "code",
   "execution_count": 55,
   "metadata": {},
   "outputs": [],
   "source": [
    "travail['qualité_vin'] = qualite\n",
    "travail.to_csv('data_vin_quality.csv')"
   ]
  },
  {
   "cell_type": "markdown",
   "metadata": {},
   "source": [
    "ajout d'une nouvelle varible(target) classe dans le datset"
   ]
  },
  {
   "cell_type": "code",
   "execution_count": 57,
   "metadata": {
    "scrolled": true
   },
   "outputs": [
    {
     "data": {
      "text/html": [
       "<div>\n",
       "<style scoped>\n",
       "    .dataframe tbody tr th:only-of-type {\n",
       "        vertical-align: middle;\n",
       "    }\n",
       "\n",
       "    .dataframe tbody tr th {\n",
       "        vertical-align: top;\n",
       "    }\n",
       "\n",
       "    .dataframe thead th {\n",
       "        text-align: right;\n",
       "    }\n",
       "</style>\n",
       "<table border=\"1\" class=\"dataframe\">\n",
       "  <thead>\n",
       "    <tr style=\"text-align: right;\">\n",
       "      <th></th>\n",
       "      <th>ID_individu</th>\n",
       "      <th>fixed_acidity</th>\n",
       "      <th>volatile_acidity</th>\n",
       "      <th>citric_acid</th>\n",
       "      <th>residual_sugar</th>\n",
       "      <th>chlorides</th>\n",
       "      <th>free_sulfur_dioxide</th>\n",
       "      <th>total_sulfur_dioxide</th>\n",
       "      <th>density</th>\n",
       "      <th>pH</th>\n",
       "      <th>sulphates</th>\n",
       "      <th>alcohol</th>\n",
       "      <th>qualité_vin</th>\n",
       "    </tr>\n",
       "  </thead>\n",
       "  <tbody>\n",
       "    <tr>\n",
       "      <th>0</th>\n",
       "      <td>0</td>\n",
       "      <td>7.0</td>\n",
       "      <td>0.27</td>\n",
       "      <td>0.36</td>\n",
       "      <td>20.7</td>\n",
       "      <td>0.045</td>\n",
       "      <td>45.0</td>\n",
       "      <td>170.0</td>\n",
       "      <td>1.0010</td>\n",
       "      <td>3.00</td>\n",
       "      <td>0.45</td>\n",
       "      <td>8.8</td>\n",
       "      <td>4</td>\n",
       "    </tr>\n",
       "    <tr>\n",
       "      <th>1</th>\n",
       "      <td>1</td>\n",
       "      <td>6.3</td>\n",
       "      <td>0.30</td>\n",
       "      <td>0.34</td>\n",
       "      <td>1.6</td>\n",
       "      <td>0.049</td>\n",
       "      <td>14.0</td>\n",
       "      <td>132.0</td>\n",
       "      <td>0.9940</td>\n",
       "      <td>3.30</td>\n",
       "      <td>0.49</td>\n",
       "      <td>9.5</td>\n",
       "      <td>4</td>\n",
       "    </tr>\n",
       "    <tr>\n",
       "      <th>2</th>\n",
       "      <td>2</td>\n",
       "      <td>8.1</td>\n",
       "      <td>0.28</td>\n",
       "      <td>0.40</td>\n",
       "      <td>6.9</td>\n",
       "      <td>0.050</td>\n",
       "      <td>30.0</td>\n",
       "      <td>97.0</td>\n",
       "      <td>0.9951</td>\n",
       "      <td>3.26</td>\n",
       "      <td>0.44</td>\n",
       "      <td>10.1</td>\n",
       "      <td>4</td>\n",
       "    </tr>\n",
       "    <tr>\n",
       "      <th>3</th>\n",
       "      <td>3</td>\n",
       "      <td>7.2</td>\n",
       "      <td>0.23</td>\n",
       "      <td>0.32</td>\n",
       "      <td>8.5</td>\n",
       "      <td>0.058</td>\n",
       "      <td>47.0</td>\n",
       "      <td>186.0</td>\n",
       "      <td>0.9956</td>\n",
       "      <td>3.19</td>\n",
       "      <td>0.40</td>\n",
       "      <td>9.9</td>\n",
       "      <td>4</td>\n",
       "    </tr>\n",
       "    <tr>\n",
       "      <th>4</th>\n",
       "      <td>4</td>\n",
       "      <td>7.2</td>\n",
       "      <td>0.23</td>\n",
       "      <td>0.32</td>\n",
       "      <td>8.5</td>\n",
       "      <td>0.058</td>\n",
       "      <td>47.0</td>\n",
       "      <td>186.0</td>\n",
       "      <td>0.9956</td>\n",
       "      <td>3.19</td>\n",
       "      <td>0.40</td>\n",
       "      <td>9.9</td>\n",
       "      <td>4</td>\n",
       "    </tr>\n",
       "  </tbody>\n",
       "</table>\n",
       "</div>"
      ],
      "text/plain": [
       "   ID_individu  fixed_acidity  volatile_acidity  citric_acid  residual_sugar  \\\n",
       "0            0            7.0              0.27         0.36            20.7   \n",
       "1            1            6.3              0.30         0.34             1.6   \n",
       "2            2            8.1              0.28         0.40             6.9   \n",
       "3            3            7.2              0.23         0.32             8.5   \n",
       "4            4            7.2              0.23         0.32             8.5   \n",
       "\n",
       "   chlorides  free_sulfur_dioxide  total_sulfur_dioxide  density    pH  \\\n",
       "0      0.045                 45.0                 170.0   1.0010  3.00   \n",
       "1      0.049                 14.0                 132.0   0.9940  3.30   \n",
       "2      0.050                 30.0                  97.0   0.9951  3.26   \n",
       "3      0.058                 47.0                 186.0   0.9956  3.19   \n",
       "4      0.058                 47.0                 186.0   0.9956  3.19   \n",
       "\n",
       "   sulphates  alcohol  qualité_vin  \n",
       "0       0.45      8.8            4  \n",
       "1       0.49      9.5            4  \n",
       "2       0.44     10.1            4  \n",
       "3       0.40      9.9            4  \n",
       "4       0.40      9.9            4  "
      ]
     },
     "execution_count": 57,
     "metadata": {},
     "output_type": "execute_result"
    }
   ],
   "source": [
    "travail.head()"
   ]
  },
  {
   "cell_type": "markdown",
   "metadata": {},
   "source": [
    "### (5) graphique"
   ]
  },
  {
   "cell_type": "code",
   "execution_count": 58,
   "metadata": {},
   "outputs": [],
   "source": [
    "from sklearn.decomposition import PCA"
   ]
  },
  {
   "cell_type": "code",
   "execution_count": 59,
   "metadata": {},
   "outputs": [],
   "source": [
    "modele = PCA(n_components=2)\n",
    "reduction = modele.fit_transform(travail)"
   ]
  },
  {
   "cell_type": "code",
   "execution_count": 60,
   "metadata": {},
   "outputs": [
    {
     "data": {
      "image/png": "[encoded data removed]",
      "text/plain": [
       "<Figure size 1080x360 with 2 Axes>"
      ]
     },
     "metadata": {},
     "output_type": "display_data"
    }
   ],
   "source": [
    "plt.style.use(\"fivethirtyeight\")\n",
    "plt.figure(figsize=(15, 5))\n",
    "plt.scatter(reduction[:,0],reduction[:,1], c=qualite);\n",
    "plt.colorbar();"
   ]
  },
  {
   "cell_type": "markdown",
   "metadata": {},
   "source": [
    "Ici j'ai utilisé l'analyse en composante principale pour reduire la dimension de notre dataset pour l'afficher en 2D"
   ]
  },
  {
   "cell_type": "markdown",
   "metadata": {},
   "source": [
    "### (6) Les caracteristiques statiques de chacune des classes"
   ]
  },
  {
   "cell_type": "code",
   "execution_count": 61,
   "metadata": {},
   "outputs": [
    {
     "data": {
      "text/html": [
       "<div>\n",
       "<style scoped>\n",
       "    .dataframe tbody tr th:only-of-type {\n",
       "        vertical-align: middle;\n",
       "    }\n",
       "\n",
       "    .dataframe tbody tr th {\n",
       "        vertical-align: top;\n",
       "    }\n",
       "\n",
       "    .dataframe thead tr th {\n",
       "        text-align: left;\n",
       "    }\n",
       "\n",
       "    .dataframe thead tr:last-of-type th {\n",
       "        text-align: right;\n",
       "    }\n",
       "</style>\n",
       "<table border=\"1\" class=\"dataframe\">\n",
       "  <thead>\n",
       "    <tr>\n",
       "      <th></th>\n",
       "      <th colspan=\"8\" halign=\"left\">ID_individu</th>\n",
       "      <th colspan=\"2\" halign=\"left\">fixed_acidity</th>\n",
       "      <th>...</th>\n",
       "      <th colspan=\"2\" halign=\"left\">sulphates</th>\n",
       "      <th colspan=\"8\" halign=\"left\">alcohol</th>\n",
       "    </tr>\n",
       "    <tr>\n",
       "      <th></th>\n",
       "      <th>count</th>\n",
       "      <th>mean</th>\n",
       "      <th>std</th>\n",
       "      <th>min</th>\n",
       "      <th>25%</th>\n",
       "      <th>50%</th>\n",
       "      <th>75%</th>\n",
       "      <th>max</th>\n",
       "      <th>count</th>\n",
       "      <th>mean</th>\n",
       "      <th>...</th>\n",
       "      <th>75%</th>\n",
       "      <th>max</th>\n",
       "      <th>count</th>\n",
       "      <th>mean</th>\n",
       "      <th>std</th>\n",
       "      <th>min</th>\n",
       "      <th>25%</th>\n",
       "      <th>50%</th>\n",
       "      <th>75%</th>\n",
       "      <th>max</th>\n",
       "    </tr>\n",
       "    <tr>\n",
       "      <th>qualité_vin</th>\n",
       "      <th></th>\n",
       "      <th></th>\n",
       "      <th></th>\n",
       "      <th></th>\n",
       "      <th></th>\n",
       "      <th></th>\n",
       "      <th></th>\n",
       "      <th></th>\n",
       "      <th></th>\n",
       "      <th></th>\n",
       "      <th></th>\n",
       "      <th></th>\n",
       "      <th></th>\n",
       "      <th></th>\n",
       "      <th></th>\n",
       "      <th></th>\n",
       "      <th></th>\n",
       "      <th></th>\n",
       "      <th></th>\n",
       "      <th></th>\n",
       "      <th></th>\n",
       "    </tr>\n",
       "  </thead>\n",
       "  <tbody>\n",
       "    <tr>\n",
       "      <th>0</th>\n",
       "      <td>538.0</td>\n",
       "      <td>2501.500000</td>\n",
       "      <td>155.451493</td>\n",
       "      <td>2233.0</td>\n",
       "      <td>2367.25</td>\n",
       "      <td>2501.5</td>\n",
       "      <td>2635.75</td>\n",
       "      <td>2770.0</td>\n",
       "      <td>538.0</td>\n",
       "      <td>7.003810</td>\n",
       "      <td>...</td>\n",
       "      <td>0.5775</td>\n",
       "      <td>1.06</td>\n",
       "      <td>538.0</td>\n",
       "      <td>10.185502</td>\n",
       "      <td>1.079923</td>\n",
       "      <td>8.0</td>\n",
       "      <td>9.4</td>\n",
       "      <td>10.0</td>\n",
       "      <td>10.8</td>\n",
       "      <td>13.50</td>\n",
       "    </tr>\n",
       "    <tr>\n",
       "      <th>1</th>\n",
       "      <td>829.0</td>\n",
       "      <td>1027.753920</td>\n",
       "      <td>119.738724</td>\n",
       "      <td>820.0</td>\n",
       "      <td>924.00</td>\n",
       "      <td>1028.0</td>\n",
       "      <td>1131.00</td>\n",
       "      <td>1237.0</td>\n",
       "      <td>829.0</td>\n",
       "      <td>7.627624</td>\n",
       "      <td>...</td>\n",
       "      <td>0.6600</td>\n",
       "      <td>1.34</td>\n",
       "      <td>829.0</td>\n",
       "      <td>10.630639</td>\n",
       "      <td>1.126440</td>\n",
       "      <td>8.5</td>\n",
       "      <td>9.6</td>\n",
       "      <td>10.5</td>\n",
       "      <td>11.4</td>\n",
       "      <td>14.00</td>\n",
       "    </tr>\n",
       "    <tr>\n",
       "      <th>2</th>\n",
       "      <td>529.0</td>\n",
       "      <td>4110.000000</td>\n",
       "      <td>152.853416</td>\n",
       "      <td>3846.0</td>\n",
       "      <td>3978.00</td>\n",
       "      <td>4110.0</td>\n",
       "      <td>4242.00</td>\n",
       "      <td>4374.0</td>\n",
       "      <td>529.0</td>\n",
       "      <td>6.589036</td>\n",
       "      <td>...</td>\n",
       "      <td>0.5500</td>\n",
       "      <td>0.98</td>\n",
       "      <td>529.0</td>\n",
       "      <td>10.640416</td>\n",
       "      <td>1.302924</td>\n",
       "      <td>8.4</td>\n",
       "      <td>9.5</td>\n",
       "      <td>10.5</td>\n",
       "      <td>11.5</td>\n",
       "      <td>14.20</td>\n",
       "    </tr>\n",
       "    <tr>\n",
       "      <th>3</th>\n",
       "      <td>532.0</td>\n",
       "      <td>1966.492481</td>\n",
       "      <td>153.732500</td>\n",
       "      <td>1698.0</td>\n",
       "      <td>1833.75</td>\n",
       "      <td>1966.5</td>\n",
       "      <td>2099.25</td>\n",
       "      <td>2232.0</td>\n",
       "      <td>532.0</td>\n",
       "      <td>7.309586</td>\n",
       "      <td>...</td>\n",
       "      <td>0.5500</td>\n",
       "      <td>0.92</td>\n",
       "      <td>532.0</td>\n",
       "      <td>10.124812</td>\n",
       "      <td>1.049700</td>\n",
       "      <td>8.6</td>\n",
       "      <td>9.3</td>\n",
       "      <td>9.9</td>\n",
       "      <td>10.8</td>\n",
       "      <td>13.00</td>\n",
       "    </tr>\n",
       "    <tr>\n",
       "      <th>4</th>\n",
       "      <td>818.0</td>\n",
       "      <td>204.000000</td>\n",
       "      <td>118.140012</td>\n",
       "      <td>0.0</td>\n",
       "      <td>102.00</td>\n",
       "      <td>204.0</td>\n",
       "      <td>306.00</td>\n",
       "      <td>408.0</td>\n",
       "      <td>818.0</td>\n",
       "      <td>7.635086</td>\n",
       "      <td>...</td>\n",
       "      <td>0.6600</td>\n",
       "      <td>2.00</td>\n",
       "      <td>818.0</td>\n",
       "      <td>10.055379</td>\n",
       "      <td>1.007184</td>\n",
       "      <td>8.5</td>\n",
       "      <td>9.3</td>\n",
       "      <td>9.8</td>\n",
       "      <td>10.5</td>\n",
       "      <td>14.00</td>\n",
       "    </tr>\n",
       "    <tr>\n",
       "      <th>5</th>\n",
       "      <td>540.0</td>\n",
       "      <td>3040.500000</td>\n",
       "      <td>156.028843</td>\n",
       "      <td>2771.0</td>\n",
       "      <td>2905.75</td>\n",
       "      <td>3040.5</td>\n",
       "      <td>3175.25</td>\n",
       "      <td>3310.0</td>\n",
       "      <td>540.0</td>\n",
       "      <td>6.680556</td>\n",
       "      <td>...</td>\n",
       "      <td>0.5300</td>\n",
       "      <td>0.99</td>\n",
       "      <td>540.0</td>\n",
       "      <td>11.022037</td>\n",
       "      <td>1.231383</td>\n",
       "      <td>8.0</td>\n",
       "      <td>10.1</td>\n",
       "      <td>11.0</td>\n",
       "      <td>12.0</td>\n",
       "      <td>14.00</td>\n",
       "    </tr>\n",
       "    <tr>\n",
       "      <th>6</th>\n",
       "      <td>829.0</td>\n",
       "      <td>1445.387214</td>\n",
       "      <td>125.026233</td>\n",
       "      <td>1234.0</td>\n",
       "      <td>1339.00</td>\n",
       "      <td>1442.0</td>\n",
       "      <td>1546.00</td>\n",
       "      <td>1702.0</td>\n",
       "      <td>829.0</td>\n",
       "      <td>7.325452</td>\n",
       "      <td>...</td>\n",
       "      <td>0.6200</td>\n",
       "      <td>1.33</td>\n",
       "      <td>829.0</td>\n",
       "      <td>10.534077</td>\n",
       "      <td>1.095779</td>\n",
       "      <td>8.5</td>\n",
       "      <td>9.7</td>\n",
       "      <td>10.4</td>\n",
       "      <td>11.3</td>\n",
       "      <td>14.00</td>\n",
       "    </tr>\n",
       "    <tr>\n",
       "      <th>7</th>\n",
       "      <td>523.0</td>\n",
       "      <td>4636.000000</td>\n",
       "      <td>151.121364</td>\n",
       "      <td>4375.0</td>\n",
       "      <td>4505.50</td>\n",
       "      <td>4636.0</td>\n",
       "      <td>4766.50</td>\n",
       "      <td>4897.0</td>\n",
       "      <td>523.0</td>\n",
       "      <td>6.269025</td>\n",
       "      <td>...</td>\n",
       "      <td>0.5550</td>\n",
       "      <td>1.08</td>\n",
       "      <td>523.0</td>\n",
       "      <td>10.891013</td>\n",
       "      <td>1.258964</td>\n",
       "      <td>8.7</td>\n",
       "      <td>9.8</td>\n",
       "      <td>10.9</td>\n",
       "      <td>11.8</td>\n",
       "      <td>14.05</td>\n",
       "    </tr>\n",
       "    <tr>\n",
       "      <th>8</th>\n",
       "      <td>824.0</td>\n",
       "      <td>614.501214</td>\n",
       "      <td>119.008143</td>\n",
       "      <td>409.0</td>\n",
       "      <td>511.75</td>\n",
       "      <td>614.5</td>\n",
       "      <td>717.25</td>\n",
       "      <td>821.0</td>\n",
       "      <td>824.0</td>\n",
       "      <td>8.037257</td>\n",
       "      <td>...</td>\n",
       "      <td>0.6500</td>\n",
       "      <td>1.62</td>\n",
       "      <td>824.0</td>\n",
       "      <td>10.177427</td>\n",
       "      <td>1.058760</td>\n",
       "      <td>8.4</td>\n",
       "      <td>9.4</td>\n",
       "      <td>9.8</td>\n",
       "      <td>10.8</td>\n",
       "      <td>14.90</td>\n",
       "    </tr>\n",
       "    <tr>\n",
       "      <th>9</th>\n",
       "      <td>535.0</td>\n",
       "      <td>3578.000000</td>\n",
       "      <td>154.585467</td>\n",
       "      <td>3311.0</td>\n",
       "      <td>3444.50</td>\n",
       "      <td>3578.0</td>\n",
       "      <td>3711.50</td>\n",
       "      <td>3845.0</td>\n",
       "      <td>535.0</td>\n",
       "      <td>6.700935</td>\n",
       "      <td>...</td>\n",
       "      <td>0.5500</td>\n",
       "      <td>0.88</td>\n",
       "      <td>535.0</td>\n",
       "      <td>10.963178</td>\n",
       "      <td>1.333720</td>\n",
       "      <td>8.4</td>\n",
       "      <td>9.8</td>\n",
       "      <td>11.0</td>\n",
       "      <td>12.1</td>\n",
       "      <td>13.90</td>\n",
       "    </tr>\n",
       "  </tbody>\n",
       "</table>\n",
       "<p>10 rows × 96 columns</p>\n",
       "</div>"
      ],
      "text/plain": [
       "            ID_individu                                                    \\\n",
       "                  count         mean         std     min      25%     50%   \n",
       "qualité_vin                                                                 \n",
       "0                 538.0  2501.500000  155.451493  2233.0  2367.25  2501.5   \n",
       "1                 829.0  1027.753920  119.738724   820.0   924.00  1028.0   \n",
       "2                 529.0  4110.000000  152.853416  3846.0  3978.00  4110.0   \n",
       "3                 532.0  1966.492481  153.732500  1698.0  1833.75  1966.5   \n",
       "4                 818.0   204.000000  118.140012     0.0   102.00   204.0   \n",
       "5                 540.0  3040.500000  156.028843  2771.0  2905.75  3040.5   \n",
       "6                 829.0  1445.387214  125.026233  1234.0  1339.00  1442.0   \n",
       "7                 523.0  4636.000000  151.121364  4375.0  4505.50  4636.0   \n",
       "8                 824.0   614.501214  119.008143   409.0   511.75   614.5   \n",
       "9                 535.0  3578.000000  154.585467  3311.0  3444.50  3578.0   \n",
       "\n",
       "                             fixed_acidity            ... sulphates        \\\n",
       "                 75%     max         count      mean  ...       75%   max   \n",
       "qualité_vin                                           ...                   \n",
       "0            2635.75  2770.0         538.0  7.003810  ...    0.5775  1.06   \n",
       "1            1131.00  1237.0         829.0  7.627624  ...    0.6600  1.34   \n",
       "2            4242.00  4374.0         529.0  6.589036  ...    0.5500  0.98   \n",
       "3            2099.25  2232.0         532.0  7.309586  ...    0.5500  0.92   \n",
       "4             306.00   408.0         818.0  7.635086  ...    0.6600  2.00   \n",
       "5            3175.25  3310.0         540.0  6.680556  ...    0.5300  0.99   \n",
       "6            1546.00  1702.0         829.0  7.325452  ...    0.6200  1.33   \n",
       "7            4766.50  4897.0         523.0  6.269025  ...    0.5550  1.08   \n",
       "8             717.25   821.0         824.0  8.037257  ...    0.6500  1.62   \n",
       "9            3711.50  3845.0         535.0  6.700935  ...    0.5500  0.88   \n",
       "\n",
       "            alcohol                                                     \n",
       "              count       mean       std  min   25%   50%   75%    max  \n",
       "qualité_vin                                                             \n",
       "0             538.0  10.185502  1.079923  8.0   9.4  10.0  10.8  13.50  \n",
       "1             829.0  10.630639  1.126440  8.5   9.6  10.5  11.4  14.00  \n",
       "2             529.0  10.640416  1.302924  8.4   9.5  10.5  11.5  14.20  \n",
       "3             532.0  10.124812  1.049700  8.6   9.3   9.9  10.8  13.00  \n",
       "4             818.0  10.055379  1.007184  8.5   9.3   9.8  10.5  14.00  \n",
       "5             540.0  11.022037  1.231383  8.0  10.1  11.0  12.0  14.00  \n",
       "6             829.0  10.534077  1.095779  8.5   9.7  10.4  11.3  14.00  \n",
       "7             523.0  10.891013  1.258964  8.7   9.8  10.9  11.8  14.05  \n",
       "8             824.0  10.177427  1.058760  8.4   9.4   9.8  10.8  14.90  \n",
       "9             535.0  10.963178  1.333720  8.4   9.8  11.0  12.1  13.90  \n",
       "\n",
       "[10 rows x 96 columns]"
      ]
     },
     "execution_count": 61,
     "metadata": {},
     "output_type": "execute_result"
    }
   ],
   "source": [
    "travail.groupby(['qualité_vin']).describe()"
   ]
  },
  {
   "cell_type": "markdown",
   "metadata": {},
   "source": [
    "les statiques de chaque classe, on a 10 lignes et 96 colonnes pour toutes les variables"
   ]
  },
  {
   "cell_type": "markdown",
   "metadata": {},
   "source": [
    "### (7) Separation des données"
   ]
  },
  {
   "cell_type": "code",
   "execution_count": 62,
   "metadata": {},
   "outputs": [],
   "source": [
    "features = ['ID_individu', 'fixed_acidity', 'volatile_acidity', 'citric_acid',\n",
    "       'residual_sugar', 'chlorides', 'free_sulfur_dioxide',\n",
    "       'total_sulfur_dioxide', 'density', 'pH', 'sulphates', 'alcohol']"
   ]
  },
  {
   "cell_type": "code",
   "execution_count": 63,
   "metadata": {},
   "outputs": [],
   "source": [
    "X = travail[features]\n",
    "y = qualite"
   ]
  },
  {
   "cell_type": "code",
   "execution_count": 64,
   "metadata": {},
   "outputs": [],
   "source": [
    "from sklearn.model_selection import train_test_split# module qui permet de separer les données"
   ]
  },
  {
   "cell_type": "code",
   "execution_count": 65,
   "metadata": {},
   "outputs": [],
   "source": [
    "X_train,X_test, y_train, y_test = train_test_split(X,y, test_size=0.2, random_state=0)# je garde 20% de données pour le test"
   ]
  },
  {
   "cell_type": "markdown",
   "metadata": {},
   "source": [
    "j'ai créé une liste nommée features pour stocker toutes les variables de notre dataset pour bien separer les données d'entrainements aux données de test\n",
    "y = qualite qui est notre liste de differentes classes(target)"
   ]
  },
  {
   "cell_type": "markdown",
   "metadata": {},
   "source": [
    "**importation de differents algorithmes en utilisant le package scikit-learn**"
   ]
  },
  {
   "cell_type": "code",
   "execution_count": 66,
   "metadata": {},
   "outputs": [],
   "source": [
    "from sklearn.linear_model import LogisticRegression\n",
    "from sklearn.neural_network import MLPClassifier\n",
    "from sklearn.tree import DecisionTreeClassifier\n",
    "from sklearn.neighbors import KNeighborsClassifier"
   ]
  },
  {
   "cell_type": "markdown",
   "metadata": {},
   "source": [
    "#### Evaluation sur les données d'entrainement"
   ]
  },
  {
   "cell_type": "code",
   "execution_count": 67,
   "metadata": {},
   "outputs": [
    {
     "name": "stderr",
     "output_type": "stream",
     "text": [
      "C:\\Users\\hans\\anaconda3\\lib\\site-packages\\sklearn\\linear_model\\_logistic.py:762: ConvergenceWarning: lbfgs failed to converge (status=1):\n",
      "STOP: TOTAL NO. of ITERATIONS REACHED LIMIT.\n",
      "\n",
      "Increase the number of iterations (max_iter) or scale the data as shown in:\n",
      "    https://scikit-learn.org/stable/modules/preprocessing.html\n",
      "Please also refer to the documentation for alternative solver options:\n",
      "    https://scikit-learn.org/stable/modules/linear_model.html#logistic-regression\n",
      "  n_iter_i = _check_optimize_result(\n"
     ]
    },
    {
     "name": "stdout",
     "output_type": "stream",
     "text": [
      "LogisticRegression : 37.68 %\n",
      "MLPClassifier : 64.21 %\n",
      "DecisionTreeClassifier : 100.00 %\n",
      "DecisionTreeClassifier : 100.00 %\n",
      "KNeighborsClassifier : 99.65 %\n"
     ]
    }
   ],
   "source": [
    "model_1 = LogisticRegression(max_iter=100)\n",
    "model_2 = MLPClassifier()\n",
    "model_3 = DecisionTreeClassifier(criterion = 'gini')\n",
    "model_4 = DecisionTreeClassifier(criterion = 'entropy')\n",
    "model_5 = KNeighborsClassifier(n_neighbors=2)\n",
    "\n",
    "for model in (model_1, model_2,model_3,model_4,model_5):\n",
    "    model.fit(X_train, y_train)# entrainement du modèle\n",
    "    print(model.__class__.__name__,':',\"%.2f\"%(model.score(X_train, y_train)*100),\"%\")# évaluation de données d'entrainement"
   ]
  },
  {
   "cell_type": "markdown",
   "metadata": {},
   "source": [
    "l'évaluation de chaque algorithme concernant les données d'entrainement"
   ]
  },
  {
   "cell_type": "markdown",
   "metadata": {},
   "source": [
    "### (8) Discussion éfficacité"
   ]
  },
  {
   "cell_type": "code",
   "execution_count": 68,
   "metadata": {},
   "outputs": [
    {
     "name": "stdout",
     "output_type": "stream",
     "text": [
      "LogisticRegression : 37.46 %\n",
      "MLPClassifier : 63.15 %\n",
      "DecisionTreeClassifier : 99.92 %\n",
      "DecisionTreeClassifier : 99.85 %\n",
      "KNeighborsClassifier : 99.15 %\n"
     ]
    }
   ],
   "source": [
    "for model in (model_1, model_2,model_3,model_4,model_5):\n",
    "    print(model.__class__.__name__,':', \"%.2f\"%(model.score(X_test, y_test)*100),\"%\")#évaluation de données de test"
   ]
  },
  {
   "cell_type": "markdown",
   "metadata": {},
   "source": [
    "en évaluant tous ces algorithmes, je constate que l'algorithme le plus éfficace c'est DecisionTreeClassifie(arbre de decision avec cart) car il predit avec une precision de 99.92% les données de test"
   ]
  },
  {
   "cell_type": "markdown",
   "metadata": {},
   "source": [
    "### (9) Prediction de qualité"
   ]
  },
  {
   "cell_type": "code",
   "execution_count": 70,
   "metadata": {},
   "outputs": [
    {
     "name": "stdout",
     "output_type": "stream",
     "text": [
      "ce vin appartient à la classe [2]\n"
     ]
    }
   ],
   "source": [
    "input_data = (4018,6.4,0.18,0.48,18.0,0.054,56.0,183.0,1.00038,2.98,0.61,8.5)# prediction de la qualité d'un vin pris au hasard dans le nouveau dataset data_vin_quality\n",
    "\n",
    "input_data_numpy = np.asarray(input_data)\n",
    "\n",
    "input_data_reshaped = input_data_numpy.reshape(1, -1)\n",
    "\n",
    "predictions = model.predict(input_data_reshaped)\n",
    "\n",
    "# print(predictions)\n",
    "\n",
    "if(predictions[0]==0):\n",
    "    print(\"ce vin appartient à la classe\",predictions)\n",
    "\n",
    "elif(predictions[0]==1):\n",
    "    print(\"ce vin appartient à la classe\",predictions)\n",
    "elif(predictions[0]==2):\n",
    "    print(\"ce vin appartient à la classe\",predictions)\n",
    "elif(predictions[0]==3):\n",
    "    print(\"ce vin appartient à la classe\",predictions)\n",
    "elif(predictions[0]==4):\n",
    "    print(\"ce vin appartient à la classe\",predictions)\n",
    "elif(predictions[0]==5):\n",
    "    print(\"ce vin appartient à la classe\",predictions)\n",
    "elif(predictions[0]==6):\n",
    "    print(\"ce vin appartient à la classe\",predictions)\n",
    "elif(predictions[0]==7):\n",
    "    print(\"ce vin appartient à la classe\",predictions)\n",
    "elif(predictions[0]==8):\n",
    "    print(\"ce vin appartient à la classe\",predictions)\n",
    "elif(predictions[0]==9):\n",
    "    print(\"ce vin appartient à la classe\",predictions)\n",
    "        \n",
    "else:\n",
    "    print(\"classe introuvable\")\n",
    "    "
   ]
  },
  {
   "cell_type": "markdown",
   "metadata": {},
   "source": [
    "**ici on fait la prediction d'un consommateur au hasard**"
   ]
  }
 ],
 "metadata": {
  "kernelspec": {
   "display_name": "Python 3",
   "language": "python",
   "name": "python3"
  },
  "language_info": {
   "codemirror_mode": {
    "name": "ipython",
    "version": 3
   },
   "file_extension": ".py",
   "mimetype": "text/x-python",
   "name": "python",
   "nbconvert_exporter": "python",
   "pygments_lexer": "ipython3",
   "version": "3.8.5"
  }
 },
 "nbformat": 4,
 "nbformat_minor": 4
}
